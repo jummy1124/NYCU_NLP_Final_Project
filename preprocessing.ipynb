{
 "cells": [
  {
   "cell_type": "code",
   "execution_count": 1,
   "metadata": {},
   "outputs": [],
   "source": [
    "from tqdm.auto import tqdm\n",
    "import numpy as np\n",
    "import pandas as pd"
   ]
  },
  {
   "cell_type": "code",
   "execution_count": 2,
   "metadata": {},
   "outputs": [],
   "source": [
    "traindf = pd.read_csv('data/fixed_train.csv')\n",
    "validdf = pd.read_csv('data/fixed_valid.csv')\n",
    "testdf = pd.read_csv('data/fixed_test.csv')"
   ]
  },
  {
   "cell_type": "code",
   "execution_count": 3,
   "metadata": {},
   "outputs": [],
   "source": [
    "# replace \"_comma_\" with \",\"\n",
    "def replace_comma(df):\n",
    "    df.loc[:, 'prompt'] = df['prompt'].str.replace('_comma_', ',')\n",
    "    df.loc[:, 'utterance'] = df['utterance'].str.replace('_comma_', ',')\n",
    "\n",
    "replace_comma(traindf)\n",
    "replace_comma(validdf)\n",
    "replace_comma(testdf)"
   ]
  },
  {
   "cell_type": "code",
   "execution_count": 4,
   "metadata": {
    "scrolled": true
   },
   "outputs": [
    {
     "data": {
      "application/vnd.jupyter.widget-view+json": {
       "model_id": "81504563db19430f8254e03cf194362d",
       "version_major": 2,
       "version_minor": 0
      },
      "text/plain": [
       "HBox(children=(FloatProgress(value=0.0, max=19533.0), HTML(value='')))"
      ]
     },
     "metadata": {},
     "output_type": "display_data"
    },
    {
     "name": "stdout",
     "output_type": "stream",
     "text": [
      "\n"
     ]
    },
    {
     "data": {
      "application/vnd.jupyter.widget-view+json": {
       "model_id": "6ec43ecae6cd44eb9e98e8bf8bb9346f",
       "version_major": 2,
       "version_minor": 0
      },
      "text/plain": [
       "HBox(children=(FloatProgress(value=0.0, max=2770.0), HTML(value='')))"
      ]
     },
     "metadata": {},
     "output_type": "display_data"
    },
    {
     "name": "stdout",
     "output_type": "stream",
     "text": [
      "\n"
     ]
    },
    {
     "data": {
      "application/vnd.jupyter.widget-view+json": {
       "model_id": "f71d0ed949884fbc8163c3b3a7cda622",
       "version_major": 2,
       "version_minor": 0
      },
      "text/plain": [
       "HBox(children=(FloatProgress(value=0.0, max=2547.0), HTML(value='')))"
      ]
     },
     "metadata": {},
     "output_type": "display_data"
    },
    {
     "name": "stdout",
     "output_type": "stream",
     "text": [
      "\n"
     ]
    }
   ],
   "source": [
    "def concate_conv(df):\n",
    "    df_concat = pd.DataFrame(columns=df.columns) \\\n",
    "                .drop(['utterance_idx'], axis=1) \\\n",
    "                .rename(columns={'utterance': 'conv'})\n",
    "\n",
    "    conv_id_groups = df.groupby(['conv_id'])\n",
    "\n",
    "    for _, indices in tqdm(conv_id_groups.groups.items()):\n",
    "        conv_rows = df.loc[indices].copy().sort_values(['utterance_idx'])\n",
    "        conv_row = conv_rows.iloc[0].drop(['utterance_idx']).rename({'utterance': 'conv'})\n",
    "        concat_text = \\\n",
    "            ' '.join([(row['utterance'] ) for _, row in conv_rows.iterrows()])\n",
    "        conv_row['conv'] = concat_text\n",
    "        df_concat = df_concat.append(conv_row, ignore_index=True)\n",
    "        \n",
    "    return df_concat\n",
    "\n",
    "new_traindf = concate_conv(traindf)\n",
    "new_validdf = concate_conv(validdf)\n",
    "new_testdf = concate_conv(testdf)"
   ]
  },
  {
   "cell_type": "code",
   "execution_count": 6,
   "metadata": {
    "scrolled": false
   },
   "outputs": [
    {
     "name": "stdout",
     "output_type": "stream",
     "text": [
      "train: My girlfriend got me a pet toad today! Do you like toads? I do! I was so happy when I opened the box and that fat mofo jumped out! That was nice of your girlfriend, do you love her?\n",
      "valid: Im expecting a good bonus to be on this check coming up. I can finally go buy a new car! That is some exciting news. Do you already know what kind of vehicle you want? Yes! Very exciting! Yes I had my eye on one all year. I cant wait Christmas is coming early. You will have to take me for a ride.\n",
      "test: I got something nice the other day, chocolates from my husband Wow that must have been a surprise for you It was, and he does that type of thing a lot. you got a great husband\n"
     ]
    }
   ],
   "source": [
    "print('train:', new_traindf[\"conv\"].values[1])\n",
    "print('valid:', new_validdf[\"conv\"].values[1])\n",
    "print('test:', new_testdf[\"conv\"].values[1])"
   ]
  },
  {
   "cell_type": "code",
   "execution_count": 6,
   "metadata": {},
   "outputs": [],
   "source": [
    "new_traindf.to_csv('data/new_train_0608.csv', index=False, encoding='utf8')\n",
    "new_validdf.to_csv('data/new_valid_0608.csv', index=False, encoding='utf8')\n",
    "new_testdf.to_csv('data/new_test_0608.csv', index=False, encoding='utf8')"
   ]
  },
  {
   "cell_type": "code",
   "execution_count": null,
   "metadata": {},
   "outputs": [],
   "source": []
  }
 ],
 "metadata": {
  "kernelspec": {
   "display_name": "Python 3",
   "language": "python",
   "name": "python3"
  },
  "language_info": {
   "codemirror_mode": {
    "name": "ipython",
    "version": 3
   },
   "file_extension": ".py",
   "mimetype": "text/x-python",
   "name": "python",
   "nbconvert_exporter": "python",
   "pygments_lexer": "ipython3",
   "version": "3.7.6"
  }
 },
 "nbformat": 4,
 "nbformat_minor": 5
}
