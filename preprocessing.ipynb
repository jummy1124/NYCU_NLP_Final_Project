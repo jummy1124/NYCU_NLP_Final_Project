{
 "cells": [
  {
   "cell_type": "code",
   "execution_count": 1,
   "metadata": {},
   "outputs": [],
   "source": [
    "from tqdm.auto import tqdm\n",
    "import numpy as np\n",
    "import pandas as pd"
   ]
  },
  {
   "cell_type": "code",
   "execution_count": 2,
   "metadata": {},
   "outputs": [],
   "source": [
    "traindf = pd.read_csv('data/fixed_train.csv')\n",
    "validdf = pd.read_csv('data/fixed_valid.csv')\n",
    "testdf = pd.read_csv('data/fixed_test.csv')"
   ]
  },
  {
   "cell_type": "code",
   "execution_count": 3,
   "metadata": {},
   "outputs": [],
   "source": [
    "# replace \"_comma_\" with \",\"\n",
    "def replace_comma(df):\n",
    "    df.loc[:, 'prompt'] = df['prompt'].str.replace('_comma_', ',')\n",
    "    df.loc[:, 'utterance'] = df['utterance'].str.replace('_comma_', ',')\n",
    "\n",
    "replace_comma(traindf)\n",
    "replace_comma(validdf)\n",
    "replace_comma(testdf)"
   ]
  },
  {
   "cell_type": "code",
   "execution_count": 4,
   "metadata": {
    "scrolled": true
   },
   "outputs": [
    {
     "data": {
      "application/vnd.jupyter.widget-view+json": {
       "model_id": "b9cda299f76e4529af8dcadd20db064a",
       "version_major": 2,
       "version_minor": 0
      },
      "text/plain": [
       "HBox(children=(FloatProgress(value=0.0, max=19533.0), HTML(value='')))"
      ]
     },
     "metadata": {},
     "output_type": "display_data"
    },
    {
     "name": "stdout",
     "output_type": "stream",
     "text": [
      "\n"
     ]
    },
    {
     "data": {
      "application/vnd.jupyter.widget-view+json": {
       "model_id": "fb9dca5c81d64ae4a9a3d3dba3390334",
       "version_major": 2,
       "version_minor": 0
      },
      "text/plain": [
       "HBox(children=(FloatProgress(value=0.0, max=2770.0), HTML(value='')))"
      ]
     },
     "metadata": {},
     "output_type": "display_data"
    },
    {
     "name": "stdout",
     "output_type": "stream",
     "text": [
      "\n"
     ]
    },
    {
     "data": {
      "application/vnd.jupyter.widget-view+json": {
       "model_id": "3e06f2ad53634410a5c16af18a445138",
       "version_major": 2,
       "version_minor": 0
      },
      "text/plain": [
       "HBox(children=(FloatProgress(value=0.0, max=2547.0), HTML(value='')))"
      ]
     },
     "metadata": {},
     "output_type": "display_data"
    },
    {
     "name": "stdout",
     "output_type": "stream",
     "text": [
      "\n"
     ]
    }
   ],
   "source": [
    "def concate_conv(df):\n",
    "    df_concat = pd.DataFrame(columns=df.columns) \\\n",
    "                .drop(['utterance_idx'], axis=1) \\\n",
    "                .rename(columns={'utterance': 'conv'})\n",
    "\n",
    "    conv_id_groups = df.groupby(['conv_id'])\n",
    "\n",
    "    for _, indices in tqdm(conv_id_groups.groups.items()):\n",
    "        conv_rows = df.loc[indices].copy().sort_values(['utterance_idx'])\n",
    "        conv_row = conv_rows.iloc[0].drop(['utterance_idx']).rename({'utterance': 'conv'})\n",
    "        concat_text = \\\n",
    "            ' '.join([(row['utterance'] ) for _, row in conv_rows.iterrows()])\n",
    "        conv_row['conv'] = concat_text\n",
    "        df_concat = df_concat.append(conv_row, ignore_index=True)\n",
    "        \n",
    "    return df_concat\n",
    "\n",
    "_traindf = concate_conv(traindf)\n",
    "_validdf = concate_conv(validdf)\n",
    "_testdf = concate_conv(testdf)"
   ]
  },
  {
   "cell_type": "code",
   "execution_count": 5,
   "metadata": {
    "scrolled": false
   },
   "outputs": [
    {
     "name": "stdout",
     "output_type": "stream",
     "text": [
      "train:\n",
      "I remember going to see the fireworks with my best friend. It was the first time we ever spent time alone together. Although there was a lot of people, we felt like the only people in the world. Was this a friend you were in love with, or just a best friend? This was a best friend. I miss her. Where has she gone? We no longer talk. Oh was this something that happened because of an argument?\n",
      "My girlfriend got me a pet toad today! Do you like toads? I do! I was so happy when I opened the box and that fat mofo jumped out! That was nice of your girlfriend, do you love her?\n",
      "\n",
      "valid:\n",
      "My upstairs neighbors make a ton of noise at all hours of the night. It makes it difficult for me to sleep.  That really sucks. Maybe you should try egging their door? Or just break in and pretend you're bigfoot while they're trying to sleep. I'm not trying to get arrested! I think I'll just wait things out until I move in two months. I would go with the bigfoot option. You can get a costume on the cheap on ebay nowadays. I've used that tactic countless times and it has never failed!\n",
      "Im expecting a good bonus to be on this check coming up. I can finally go buy a new car! That is some exciting news. Do you already know what kind of vehicle you want? Yes! Very exciting! Yes I had my eye on one all year. I cant wait Christmas is coming early. You will have to take me for a ride.\n",
      "\n",
      "test:\n",
      "Yeah about 10 years ago I had a horrifying experience. It was 100% their fault but they hit the water barrels and survived. They had no injuries but they almost ran me off the road. Did you suffer any injuries? No I wasn't hit. It turned out they were drunk. I felt guilty but realized it was his fault. Why did you feel guilty? People really shouldn't drive drunk. I don't know I was new to driving and hadn't experienced anything like that. I felt like my horn made him swerve into the water barrels.\n",
      "I got something nice the other day, chocolates from my husband Wow that must have been a surprise for you It was, and he does that type of thing a lot. you got a great husband\n",
      "\n"
     ]
    }
   ],
   "source": [
    "endl = '\\n'\n",
    "print(f'train:{endl}{endl.join(_traindf[\"conv\"].values[:2].tolist())}{endl}')\n",
    "print(f'valid:{endl}{endl.join(_validdf[\"conv\"].values[:2].tolist())}{endl}')\n",
    "print(f'test:{endl}{endl.join(_testdf[\"conv\"].values[:2].tolist())}{endl}')"
   ]
  },
  {
   "cell_type": "code",
   "execution_count": 6,
   "metadata": {},
   "outputs": [],
   "source": [
    "_traindf.to_csv('data/new_train_0608.csv', index=False, encoding='utf8')\n",
    "_validdf.to_csv('data/new_valid_0608.csv', index=False, encoding='utf8')\n",
    "_testdf.to_csv('data/new_test_0608.csv', index=False, encoding='utf8')"
   ]
  },
  {
   "cell_type": "code",
   "execution_count": null,
   "metadata": {},
   "outputs": [],
   "source": []
  }
 ],
 "metadata": {
  "kernelspec": {
   "display_name": "Python 3",
   "language": "python",
   "name": "python3"
  },
  "language_info": {
   "codemirror_mode": {
    "name": "ipython",
    "version": 3
   },
   "file_extension": ".py",
   "mimetype": "text/x-python",
   "name": "python",
   "nbconvert_exporter": "python",
   "pygments_lexer": "ipython3",
   "version": "3.7.6"
  }
 },
 "nbformat": 4,
 "nbformat_minor": 5
}
